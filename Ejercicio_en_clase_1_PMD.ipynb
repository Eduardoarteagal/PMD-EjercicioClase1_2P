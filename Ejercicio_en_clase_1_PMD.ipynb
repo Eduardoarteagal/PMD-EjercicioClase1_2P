{
  "nbformat": 4,
  "nbformat_minor": 0,
  "metadata": {
    "colab": {
      "provenance": [],
      "authorship_tag": "ABX9TyO3RgDg/2EKbTIzjItlSeA5",
      "include_colab_link": true
    },
    "kernelspec": {
      "name": "python3",
      "display_name": "Python 3"
    },
    "language_info": {
      "name": "python"
    }
  },
  "cells": [
    {
      "cell_type": "markdown",
      "metadata": {
        "id": "view-in-github",
        "colab_type": "text"
      },
      "source": [
        "<a href=\"https://colab.research.google.com/github/Eduardoarteagal/PMD-EjercicioClase1_2P/blob/main/Ejercicio_en_clase_1_PMD.ipynb\" target=\"_parent\"><img src=\"https://colab.research.google.com/assets/colab-badge.svg\" alt=\"Open In Colab\"/></a>"
      ]
    },
    {
      "cell_type": "code",
      "execution_count": null,
      "metadata": {
        "colab": {
          "base_uri": "https://localhost:8080/"
        },
        "id": "dIehfRdvg_m3",
        "outputId": "6dff012c-1e39-4101-dc6e-201971c8dd26"
      },
      "outputs": [
        {
          "output_type": "stream",
          "name": "stdout",
          "text": [
            "Collecting pyspark\n",
            "  Downloading pyspark-3.5.1.tar.gz (317.0 MB)\n",
            "\u001b[2K     \u001b[90m━━━━━━━━━━━━━━━━━━━━━━━━━━━━━━━━━━━━━━━━\u001b[0m \u001b[32m317.0/317.0 MB\u001b[0m \u001b[31m3.4 MB/s\u001b[0m eta \u001b[36m0:00:00\u001b[0m\n",
            "\u001b[?25h  Preparing metadata (setup.py) ... \u001b[?25l\u001b[?25hdone\n",
            "Requirement already satisfied: py4j==0.10.9.7 in /usr/local/lib/python3.10/dist-packages (from pyspark) (0.10.9.7)\n",
            "Building wheels for collected packages: pyspark\n",
            "  Building wheel for pyspark (setup.py) ... \u001b[?25l\u001b[?25hdone\n",
            "  Created wheel for pyspark: filename=pyspark-3.5.1-py2.py3-none-any.whl size=317488491 sha256=927f0efd8beb989cbe4596121f236d796fab67824f5aa2b0e5d9bcc932707805\n",
            "  Stored in directory: /root/.cache/pip/wheels/80/1d/60/2c256ed38dddce2fdd93be545214a63e02fbd8d74fb0b7f3a6\n",
            "Successfully built pyspark\n",
            "Installing collected packages: pyspark\n",
            "Successfully installed pyspark-3.5.1\n"
          ]
        }
      ],
      "source": [
        "!pip install pyspark"
      ]
    },
    {
      "cell_type": "code",
      "source": [
        "from pyspark.sql import SparkSession\n",
        "from pyspark import SparkContext\n",
        "from pyspark.sql.functions import sum as spark_sum, col\n",
        "\n",
        "SpSession = SparkSession \\\n",
        "          .builder \\\n",
        "          .appName(\"Demo Spark\") \\\n",
        "          .getOrCreate()\n",
        "sc = SpContext = SpSession.sparkContext  # Create a Spark context"
      ],
      "metadata": {
        "id": "NMaKCp_bhNEB"
      },
      "execution_count": null,
      "outputs": []
    },
    {
      "cell_type": "code",
      "source": [
        "rddA= sc.parallelize([1,2,3,4])\n",
        "rddB= sc.parallelize([3,4,5,6])"
      ],
      "metadata": {
        "id": "VTlvm81ohZXw"
      },
      "execution_count": null,
      "outputs": []
    },
    {
      "cell_type": "code",
      "source": [
        "#substrato de dos listas\n",
        "diffA = rddA.subtract(rddB)\n",
        "diffB = rddB.subtract(rddA)\n",
        "symmetric_difference = diffA.union(diffB)\n",
        "result = symmetric_difference.collect()\n",
        "print(result)\n"
      ],
      "metadata": {
        "colab": {
          "base_uri": "https://localhost:8080/"
        },
        "id": "4hdUzEyayJm1",
        "outputId": "e32aa190-34ef-4a0a-d3e3-3a5ee8596187"
      },
      "execution_count": null,
      "outputs": [
        {
          "output_type": "stream",
          "name": "stdout",
          "text": [
            "[1, 2, 5, 6]\n"
          ]
        }
      ]
    },
    {
      "cell_type": "code",
      "source": [
        "lista = [('pan',3), ('agua',2), ('azúcar',1), ('leche',2), ('pan',1), ('cereales',3), ('agua',0.5), ('leche',2), ('filetes',5)]\n",
        "rddC= sc.parallelize(lista)\n",
        "#gasto por cada producto\n",
        "resultrdd1 = rddC.reduceByKey(lambda x,y: x+y)\n",
        "resultrdd1.collect()\n"
      ],
      "metadata": {
        "colab": {
          "base_uri": "https://localhost:8080/"
        },
        "id": "UGwX_PC1xm87",
        "outputId": "9fbadc2f-9870-40f7-dd22-513c9d206d2b"
      },
      "execution_count": null,
      "outputs": [
        {
          "output_type": "execute_result",
          "data": {
            "text/plain": [
              "[('leche', 4),\n",
              " ('cereales', 3),\n",
              " ('filetes', 5),\n",
              " ('pan', 4),\n",
              " ('agua', 2.5),\n",
              " ('azúcar', 1)]"
            ]
          },
          "metadata": {},
          "execution_count": 10
        }
      ]
    },
    {
      "cell_type": "code",
      "source": [
        "#maximo que se pagado por cada producto\n",
        "resultrdd2 = rddC.reduceByKey(lambda x,y: max(x,y))\n",
        "resultrdd2.collect()"
      ],
      "metadata": {
        "colab": {
          "base_uri": "https://localhost:8080/"
        },
        "id": "Mo6O-ctv2aV8",
        "outputId": "a037975e-b3df-49b6-8302-38019c16d0dc"
      },
      "execution_count": null,
      "outputs": [
        {
          "output_type": "execute_result",
          "data": {
            "text/plain": [
              "[('leche', 2),\n",
              " ('cereales', 3),\n",
              " ('filetes', 5),\n",
              " ('pan', 3),\n",
              " ('agua', 2),\n",
              " ('azúcar', 1)]"
            ]
          },
          "metadata": {},
          "execution_count": 11
        }
      ]
    }
  ]
}